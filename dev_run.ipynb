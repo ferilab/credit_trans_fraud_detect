{
 "cells": [
  {
   "cell_type": "code",
   "execution_count": 1,
   "id": "62c79443-f824-42be-a591-ec57e3fb67e9",
   "metadata": {},
   "outputs": [],
   "source": [
    "import pandas as pd\n"
   ]
  },
  {
   "cell_type": "code",
   "execution_count": 2,
   "id": "6440c563-bf98-471a-a156-6c7edc34a693",
   "metadata": {},
   "outputs": [
    {
     "data": {
      "text/html": [
       "<div>\n",
       "<style scoped>\n",
       "    .dataframe tbody tr th:only-of-type {\n",
       "        vertical-align: middle;\n",
       "    }\n",
       "\n",
       "    .dataframe tbody tr th {\n",
       "        vertical-align: top;\n",
       "    }\n",
       "\n",
       "    .dataframe thead th {\n",
       "        text-align: right;\n",
       "    }\n",
       "</style>\n",
       "<table border=\"1\" class=\"dataframe\">\n",
       "  <thead>\n",
       "    <tr style=\"text-align: right;\">\n",
       "      <th></th>\n",
       "      <th>Time</th>\n",
       "      <th>V1</th>\n",
       "      <th>V2</th>\n",
       "      <th>V3</th>\n",
       "      <th>V4</th>\n",
       "      <th>V5</th>\n",
       "      <th>V6</th>\n",
       "      <th>V7</th>\n",
       "      <th>V8</th>\n",
       "      <th>V9</th>\n",
       "      <th>...</th>\n",
       "      <th>V21</th>\n",
       "      <th>V22</th>\n",
       "      <th>V23</th>\n",
       "      <th>V24</th>\n",
       "      <th>V25</th>\n",
       "      <th>V26</th>\n",
       "      <th>V27</th>\n",
       "      <th>V28</th>\n",
       "      <th>Amount</th>\n",
       "      <th>Class</th>\n",
       "    </tr>\n",
       "  </thead>\n",
       "  <tbody>\n",
       "    <tr>\n",
       "      <th>0</th>\n",
       "      <td>118716.0</td>\n",
       "      <td>-0.390964</td>\n",
       "      <td>-3.763199</td>\n",
       "      <td>-3.603844</td>\n",
       "      <td>1.587689</td>\n",
       "      <td>-0.476637</td>\n",
       "      <td>-0.561702</td>\n",
       "      <td>2.177963</td>\n",
       "      <td>-0.697348</td>\n",
       "      <td>-0.018831</td>\n",
       "      <td>...</td>\n",
       "      <td>0.775684</td>\n",
       "      <td>-0.522576</td>\n",
       "      <td>-1.058335</td>\n",
       "      <td>0.626353</td>\n",
       "      <td>-0.277219</td>\n",
       "      <td>0.238437</td>\n",
       "      <td>-0.305403</td>\n",
       "      <td>0.186314</td>\n",
       "      <td>1286.00</td>\n",
       "      <td>0</td>\n",
       "    </tr>\n",
       "    <tr>\n",
       "      <th>1</th>\n",
       "      <td>139634.0</td>\n",
       "      <td>-8.233433</td>\n",
       "      <td>-8.564707</td>\n",
       "      <td>-3.595837</td>\n",
       "      <td>2.177063</td>\n",
       "      <td>3.920763</td>\n",
       "      <td>-3.750181</td>\n",
       "      <td>0.236438</td>\n",
       "      <td>0.287091</td>\n",
       "      <td>-0.914357</td>\n",
       "      <td>...</td>\n",
       "      <td>0.623710</td>\n",
       "      <td>0.743623</td>\n",
       "      <td>1.018854</td>\n",
       "      <td>0.904326</td>\n",
       "      <td>0.459645</td>\n",
       "      <td>0.565930</td>\n",
       "      <td>0.673022</td>\n",
       "      <td>-2.286908</td>\n",
       "      <td>122.20</td>\n",
       "      <td>0</td>\n",
       "    </tr>\n",
       "    <tr>\n",
       "      <th>2</th>\n",
       "      <td>44158.0</td>\n",
       "      <td>-1.242260</td>\n",
       "      <td>1.174146</td>\n",
       "      <td>2.236598</td>\n",
       "      <td>2.859563</td>\n",
       "      <td>-0.282746</td>\n",
       "      <td>0.766849</td>\n",
       "      <td>-0.151577</td>\n",
       "      <td>0.260983</td>\n",
       "      <td>-0.196647</td>\n",
       "      <td>...</td>\n",
       "      <td>-0.196109</td>\n",
       "      <td>-0.065540</td>\n",
       "      <td>-0.246472</td>\n",
       "      <td>-0.117812</td>\n",
       "      <td>0.319460</td>\n",
       "      <td>0.291651</td>\n",
       "      <td>0.396989</td>\n",
       "      <td>0.307908</td>\n",
       "      <td>41.49</td>\n",
       "      <td>0</td>\n",
       "    </tr>\n",
       "    <tr>\n",
       "      <th>3</th>\n",
       "      <td>49919.0</td>\n",
       "      <td>0.398771</td>\n",
       "      <td>1.965449</td>\n",
       "      <td>-2.030515</td>\n",
       "      <td>1.742272</td>\n",
       "      <td>0.760097</td>\n",
       "      <td>-1.627147</td>\n",
       "      <td>0.592376</td>\n",
       "      <td>0.206627</td>\n",
       "      <td>-0.687156</td>\n",
       "      <td>...</td>\n",
       "      <td>-0.044376</td>\n",
       "      <td>0.075527</td>\n",
       "      <td>0.195789</td>\n",
       "      <td>0.079028</td>\n",
       "      <td>-0.520272</td>\n",
       "      <td>-0.392445</td>\n",
       "      <td>0.155315</td>\n",
       "      <td>-0.046441</td>\n",
       "      <td>2.29</td>\n",
       "      <td>0</td>\n",
       "    </tr>\n",
       "    <tr>\n",
       "      <th>4</th>\n",
       "      <td>114366.0</td>\n",
       "      <td>2.078543</td>\n",
       "      <td>-0.138865</td>\n",
       "      <td>-1.522262</td>\n",
       "      <td>0.166521</td>\n",
       "      <td>0.154956</td>\n",
       "      <td>-0.814285</td>\n",
       "      <td>0.054746</td>\n",
       "      <td>-0.183745</td>\n",
       "      <td>0.966686</td>\n",
       "      <td>...</td>\n",
       "      <td>0.247796</td>\n",
       "      <td>0.801906</td>\n",
       "      <td>0.024460</td>\n",
       "      <td>0.588871</td>\n",
       "      <td>0.304012</td>\n",
       "      <td>-0.438180</td>\n",
       "      <td>-0.002397</td>\n",
       "      <td>-0.051451</td>\n",
       "      <td>1.00</td>\n",
       "      <td>0</td>\n",
       "    </tr>\n",
       "  </tbody>\n",
       "</table>\n",
       "<p>5 rows × 31 columns</p>\n",
       "</div>"
      ],
      "text/plain": [
       "       Time        V1        V2        V3        V4        V5        V6  \\\n",
       "0  118716.0 -0.390964 -3.763199 -3.603844  1.587689 -0.476637 -0.561702   \n",
       "1  139634.0 -8.233433 -8.564707 -3.595837  2.177063  3.920763 -3.750181   \n",
       "2   44158.0 -1.242260  1.174146  2.236598  2.859563 -0.282746  0.766849   \n",
       "3   49919.0  0.398771  1.965449 -2.030515  1.742272  0.760097 -1.627147   \n",
       "4  114366.0  2.078543 -0.138865 -1.522262  0.166521  0.154956 -0.814285   \n",
       "\n",
       "         V7        V8        V9  ...       V21       V22       V23       V24  \\\n",
       "0  2.177963 -0.697348 -0.018831  ...  0.775684 -0.522576 -1.058335  0.626353   \n",
       "1  0.236438  0.287091 -0.914357  ...  0.623710  0.743623  1.018854  0.904326   \n",
       "2 -0.151577  0.260983 -0.196647  ... -0.196109 -0.065540 -0.246472 -0.117812   \n",
       "3  0.592376  0.206627 -0.687156  ... -0.044376  0.075527  0.195789  0.079028   \n",
       "4  0.054746 -0.183745  0.966686  ...  0.247796  0.801906  0.024460  0.588871   \n",
       "\n",
       "        V25       V26       V27       V28   Amount  Class  \n",
       "0 -0.277219  0.238437 -0.305403  0.186314  1286.00      0  \n",
       "1  0.459645  0.565930  0.673022 -2.286908   122.20      0  \n",
       "2  0.319460  0.291651  0.396989  0.307908    41.49      0  \n",
       "3 -0.520272 -0.392445  0.155315 -0.046441     2.29      0  \n",
       "4  0.304012 -0.438180 -0.002397 -0.051451     1.00      0  \n",
       "\n",
       "[5 rows x 31 columns]"
      ]
     },
     "execution_count": 2,
     "metadata": {},
     "output_type": "execute_result"
    }
   ],
   "source": [
    "df = pd.read_csv(\"creditcard.csv\")\n",
    "df.head()"
   ]
  },
  {
   "cell_type": "code",
   "execution_count": 15,
   "id": "83aad8da-2b41-4272-8606-c58080fe9af0",
   "metadata": {},
   "outputs": [
    {
     "data": {
      "text/plain": [
       "284315"
      ]
     },
     "execution_count": 15,
     "metadata": {},
     "output_type": "execute_result"
    }
   ],
   "source": [
    "len(df[df.Class == 0])"
   ]
  },
  {
   "cell_type": "code",
   "execution_count": 16,
   "id": "2a5c55f1-7e9d-48e7-b158-d847b7d844e3",
   "metadata": {},
   "outputs": [
    {
     "data": {
      "text/plain": [
       "492"
      ]
     },
     "execution_count": 16,
     "metadata": {},
     "output_type": "execute_result"
    }
   ],
   "source": [
    "len(df[df.Class == 1])"
   ]
  },
  {
   "cell_type": "code",
   "execution_count": 24,
   "id": "70095453-77e2-4963-8a1b-eb5ad401e607",
   "metadata": {},
   "outputs": [
    {
     "data": {
      "text/plain": [
       "14708"
      ]
     },
     "execution_count": 24,
     "metadata": {},
     "output_type": "execute_result"
    }
   ],
   "source": [
    "len(df_new)"
   ]
  },
  {
   "cell_type": "code",
   "execution_count": null,
   "id": "9b39c491-118a-483d-849d-feaf75be5d62",
   "metadata": {},
   "outputs": [],
   "source": []
  }
 ],
 "metadata": {
  "kernelspec": {
   "display_name": "Python 3 (ipykernel)",
   "language": "python",
   "name": "python3"
  },
  "language_info": {
   "codemirror_mode": {
    "name": "ipython",
    "version": 3
   },
   "file_extension": ".py",
   "mimetype": "text/x-python",
   "name": "python",
   "nbconvert_exporter": "python",
   "pygments_lexer": "ipython3",
   "version": "3.11.7"
  }
 },
 "nbformat": 4,
 "nbformat_minor": 5
}
